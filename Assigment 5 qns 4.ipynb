{
 "cells": [
  {
   "cell_type": "raw",
   "id": "64d485f6",
   "metadata": {},
   "source": [
    "#Problem statement\n",
    "\n",
    "Implement the basic structure of a parent class, Account, and a child class, SavingsAccount.\n",
    "\n",
    "Task 1\n",
    "\n",
    "👉 Implement properties as instance variables, and set them to None or 0.\n",
    "\n",
    "Account has the following properties:\n",
    "\n",
    "    • title\n",
    "    • Balance\n",
    "SavingsAccount has the following properties:\n",
    "\n",
    "    • interestRate\n",
    "Task 2\n",
    "\n",
    "Create an initializer for Account class. The order of parameters should be the following, where Ashish is the title, and 5000 is the account balance:\n",
    "\n",
    "Account(\"Ashish\", 5000)\n",
    "\n",
    "Task 3\n",
    "\n",
    "Implement properties as instance variables, and set them to None or 0.\n",
    "\n",
    "Create an initializer for the SavingsAccount class using the initializer of the Account class in the order below:\n",
    "\n",
    "Account(\"Ashish\", 5000, 5)\n",
    "\n",
    "Here, Ashish is the title and 5000 is the balance and 5 is the interestRate."
   ]
  },
  {
   "cell_type": "code",
   "execution_count": 5,
   "id": "5303a70c",
   "metadata": {},
   "outputs": [
    {
     "name": "stdout",
     "output_type": "stream",
     "text": [
      "Account Title: Ashish\n",
      "Account Balance: 5000\n",
      "Savings Account Title: Ashish\n",
      "Savings Account Balance: 5000\n",
      "Savings Account Interest Rate: 5\n"
     ]
    }
   ],
   "source": [
    "class Account:\n",
    "    def __init__(self, title, balance=0):\n",
    "        self.title = title\n",
    "        self.balance = balance\n",
    "\n",
    "class SavingsAccount(Account):\n",
    "    def __init__(self, title, balance, interestRate):\n",
    "        super().__init__(title, balance)\n",
    "        self.interestRate = interestRate\n",
    "\n",
    "account = Account(\"Ashish\", 5000)\n",
    "\n",
    "savings_account = SavingsAccount(\"Ashish\", 5000, 5)\n",
    "\n",
    "print(\"Account Title:\", account.title)\n",
    "print(\"Account Balance:\", account.balance)\n",
    "\n",
    "print(\"Savings Account Title:\", savings_account.title)\n",
    "print(\"Savings Account Balance:\", savings_account.balance)\n",
    "print(\"Savings Account Interest Rate:\", savings_account.interestRate)"
   ]
  },
  {
   "cell_type": "code",
   "execution_count": null,
   "id": "fe8e6c22",
   "metadata": {},
   "outputs": [],
   "source": []
  }
 ],
 "metadata": {
  "kernelspec": {
   "display_name": "Python 3 (ipykernel)",
   "language": "python",
   "name": "python3"
  },
  "language_info": {
   "codemirror_mode": {
    "name": "ipython",
    "version": 3
   },
   "file_extension": ".py",
   "mimetype": "text/x-python",
   "name": "python",
   "nbconvert_exporter": "python",
   "pygments_lexer": "ipython3",
   "version": "3.10.9"
  }
 },
 "nbformat": 4,
 "nbformat_minor": 5
}
